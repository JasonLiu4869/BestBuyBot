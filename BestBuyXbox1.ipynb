{
 "cells": [
  {
   "cell_type": "code",
   "execution_count": null,
   "metadata": {},
   "outputs": [],
   "source": [
    "from selenium import webdriver as wd\n",
    "import chromedriver_binary\n",
    "import random\n",
    "import time\n",
    "import pandas as pd\n",
    "from bs4 import BeautifulSoup\n",
    "\n",
    "from selenium.common.exceptions import NoSuchElementException"
   ]
  },
  {
   "cell_type": "code",
   "execution_count": null,
   "metadata": {},
   "outputs": [],
   "source": [
    "option = wd.chrome.options.Options()\n",
    "option.add_argument('--disable-blink-features=AutomationControlled')\n",
    "wd = wd.Chrome(options=options)\n",
    "#wd.implicitly_wait()"
   ]
  },
  {
   "cell_type": "code",
   "execution_count": null,
   "metadata": {},
   "outputs": [],
   "source": [
    "wd.get(\"https://www.bestbuy.ca/en-ca/product/xbox-wireless-controller-forza-horizon-5-limited-edition/15678698\")"
   ]
  },
  {
   "cell_type": "code",
   "execution_count": null,
   "metadata": {},
   "outputs": [],
   "source": [
    "add_to_cart_button = wd.find_element_by_class_name(\"content_3Dbgg\")\n",
    "add_to_cart_button.find \n",
    "#add_to_cart_button.click()"
   ]
  },
  {
   "cell_type": "code",
   "execution_count": null,
   "metadata": {},
   "outputs": [],
   "source": [
    "go_to_cart_button = wd.find_element_by_class_name(\"footer_6WBzS\")\n",
    "go_to_cart_button.click()"
   ]
  },
  {
   "cell_type": "code",
   "execution_count": null,
   "metadata": {},
   "outputs": [],
   "source": [
    "try:\n",
    "    add_to_cart_button = wd.find_element_by_class_name('addToCartLabel_YZaVX')\n",
    "    add_to_cart_button.click()  \n",
    "except NoSuchElementException:\n",
    "    print(\"Out of stock\")"
   ]
  },
  {
   "cell_type": "code",
   "execution_count": null,
   "metadata": {},
   "outputs": [],
   "source": [
    "while not wd.find_element_by_class_name('button_E6SE9 primary_1oCqK goToCartButton_Co1Sx regular_1jnnf'):\n",
    "      "
   ]
  },
  {
   "cell_type": "code",
   "execution_count": null,
   "metadata": {},
   "outputs": [],
   "source": [
    "button_E6SE9 primary_1oCqK goToCartButton_Co1Sx regular_1jnnf"
   ]
  },
  {
   "cell_type": "code",
   "execution_count": null,
   "metadata": {},
   "outputs": [],
   "source": [
    "type(a)"
   ]
  },
  {
   "cell_type": "code",
   "execution_count": null,
   "metadata": {},
   "outputs": [],
   "source": [
    "def checkForStock(url):\n",
    "    wd.get(url)\n",
    "    soup = BeautifulSoup(wd.page_source,features=\"html.parser\")\n",
    "    items = soup.find(\"span\", {\"class\": \"availabilityMessage_ig-s5 container_1DAvI\"})\n",
    "    return items.text == "
   ]
  },
  {
   "cell_type": "code",
   "execution_count": null,
   "metadata": {},
   "outputs": [],
   "source": [
    "# soup = BeautifulSoup(wd.page_source)\n",
    "wd.get(url)\n",
    "soup = BeautifulSoup(wd.page_source,features=\"html.parser\")\n",
    "items = soup.find(\"span\", {\"class\": \"availabilityMessage_ig-s5 container_1DAvI})\n",
    "\n",
    "items_processed = []\n",
    "\n",
    "for row in items.findAll(\"div\", {\"class\": \"item-cell\"}):\n",
    "    row_processed = []\n",
    "    itemTitle = row.find(\"a\", {\"class\": \"item-title\"})\n",
    "    itemPromoText = row.find(\"p\", {\"class\": \"item-promo\"})\n",
    "    itemPrice = row.find(\"li\", {\"class\": \"price-current\"})\n",
    "\n",
    "\n",
    "    status = \"Available\"\n",
    "\n",
    "    if itemPromoText and itemPromoText.text == \"OUT OF STOCK\":\n",
    "        status = \"Sold Out\"\n",
    "\n",
    "    if itemTitle:\n",
    "        row_processed.append(itemTitle.text)\n",
    "        row_processed.append(itemPrice.find(\"strong\").text)                \n",
    "        row_processed.append(itemTitle.get(\"href\"))\n",
    "        row_processed.append(status)\n",
    "\n",
    "\n",
    "    if row_processed:\n",
    "        items_processed.append(row_processed)\n",
    "# cells[3].find(\"img\"valid)[\"src\"]\n",
    "# columns = [\"ImageUrl\",\"Origin\"]\n",
    "\n",
    "df = pd.DataFrame.from_records(items_processed, columns=[\"Item Title\",\"Item Price\",\"URL\",\"Status\"])\n",
    "\n",
    "df[\"Item Price\"] = df[\"Item Price\"].apply(lambda x: x.replace(\",\",\"\"))\n",
    "df[\"Item Price\"] = pd.to_numeric(df[\"Item Price\"])\n",
    "\n"
   ]
  },
  {
   "cell_type": "code",
   "execution_count": null,
   "metadata": {},
   "outputs": [],
   "source": []
  },
  {
   "cell_type": "code",
   "execution_count": null,
   "metadata": {},
   "outputs": [],
   "source": [
    "import chromedriver_binary\n",
    "\n",
    "from selenium import webdriver\n",
    "from selenium.webdriver.common.by import By\n",
    "from selenium.webdriver.support.ui import WebDriverWait\n",
    "from selenium.webdriver.support import expected_conditions as EC\n",
    "\n",
    "options = webdriver.chrome.options.Options()\n",
    "options.add_argument('--incognito --disable-blink-features=AutomationControlled')\n",
    "\n",
    "driver = webdriver.Chrome(options=options)\n",
    "\n",
    "link = \"https://www.bestbuy.ca/en-ca/product/insignia-insignia-aa-batteries-48-pack-ns-cb48aa-c/10418955\"\n",
    "\n",
    "import info"
   ]
  },
  {
   "cell_type": "code",
   "execution_count": null,
   "metadata": {},
   "outputs": [],
   "source": [
    "driver.get(link)\n",
    "\n",
    "atcBtn = WebDriverWait(driver, 10).until(EC.element_to_be_clickable((By.CLASS_NAME, \"addToCartLabel_YZaVX\")))\n",
    "atcBtn.click()"
   ]
  },
  {
   "cell_type": "code",
   "execution_count": null,
   "metadata": {},
   "outputs": [],
   "source": [
    "driver.get(\"https://www.bestbuy.ca/en-ca/basket\")\n",
    "checkoutBtn = WebDriverWait(driver, 10).until(EC.presence_of_element_located((By.CLASS_NAME, \"checkoutButton_2DdyM\")))\n",
    "checkoutBtn.click()"
   ]
  },
  {
   "cell_type": "code",
   "execution_count": null,
   "metadata": {},
   "outputs": [],
   "source": [
    "import info\n",
    "\n",
    "emailField = WebDriverWait(driver, 10).until(EC.presence_of_element_located((By.ID, \"username\")))\n",
    "emailField.send_keys(info.email)\n",
    "\n",
    "pwField = WebDriverWait(driver, 10).until(EC.presence_of_element_located((By.ID, \"password\")))\n",
    "pwField.send_keys(info.password)"
   ]
  },
  {
   "cell_type": "code",
   "execution_count": null,
   "metadata": {},
   "outputs": [],
   "source": [
    "signInBtn = WebDriverWait(driver, 10).until(EC.presence_of_element_located((By.CLASS_NAME, \"GSYpm\")))\n",
    "signInBtn.click()"
   ]
  },
  {
   "cell_type": "code",
   "execution_count": null,
   "metadata": {},
   "outputs": [],
   "source": [
    "cvvField = WebDriverWait(driver, 10).until(\n",
    "            EC.presence_of_element_located((By.ID, \"cvv\"))\n",
    "        )\n",
    "cvvField.send_keys(info.cvv)"
   ]
  },
  {
   "cell_type": "code",
   "execution_count": null,
   "metadata": {},
   "outputs": [],
   "source": [
    "placeOrderBtn = WebDriverWait(driver, 10).until(\n",
    "            EC.presence_of_element_located((By.CLASS_NAME, \"button_E6SE9.primary_1oCqK.order-now.regular_1jnnf\"))\n",
    "        )"
   ]
  },
  {
   "cell_type": "code",
   "execution_count": null,
   "metadata": {},
   "outputs": [],
   "source": [
    "placeOrderBtn.click()"
   ]
  },
  {
   "cell_type": "code",
   "execution_count": null,
   "metadata": {},
   "outputs": [],
   "source": []
  },
  {
   "cell_type": "code",
   "execution_count": null,
   "metadata": {},
   "outputs": [],
   "source": [
    "import chromedriver_binary\n",
    "from timeit import default_timer as timer\n",
    "from datetime import datetime\n",
    "import pytz\n",
    "\n",
    "from selenium import webdriver\n",
    "from selenium.webdriver.common.by import By\n",
    "from selenium.webdriver.support.ui import WebDriverWait\n",
    "from selenium.webdriver.support import expected_conditions as EC\n",
    "\n",
    "options = webdriver.chrome.options.Options()\n",
    "options.add_argument('--incognito --disable-blink-features=AutomationControlled')\n",
    "\n",
    "driver = webdriver.Chrome(options=options)\n",
    "\n",
    "import info\n",
    "\n",
    "link = \"https://www.bestbuy.ca/en-ca/product/xbox-series-s-512gb-console/14964950\"\n",
    "driver.get(link)\n",
    "\n",
    "atcBtn = WebDriverWait(driver, 10).until(EC.element_to_be_clickable((By.CLASS_NAME, \"button_E6SE9.primary_1oCqK.addToCartButton_1op0t.addToCartButton.regular_1jnnf\")))\n",
    "#atcBtn.click()"
   ]
  },
  {
   "cell_type": "code",
   "execution_count": null,
   "metadata": {},
   "outputs": [],
   "source": [
    "atcBtn.click()"
   ]
  },
  {
   "cell_type": "code",
   "execution_count": null,
   "metadata": {},
   "outputs": [],
   "source": [
    "atcSuccessBtn = WebDriverWait(driver, 10).until(EC.element_to_be_clickable((By.CLASS_NAME, \"contentContainer_1GQT-\")))\n",
    "atcSuccessBtn.text == \"This item has been added to your cart.\""
   ]
  },
  {
   "cell_type": "code",
   "execution_count": null,
   "metadata": {},
   "outputs": [],
   "source": [
    "import info\n",
    "info.cvv"
   ]
  },
  {
   "cell_type": "code",
   "execution_count": null,
   "metadata": {},
   "outputs": [],
   "source": [
    "import chromedriver_binary\n",
    "from timeit import default_timer as timer\n",
    "from datetime import datetime\n",
    "import pytz\n",
    "\n",
    "from selenium import webdriver\n",
    "from selenium.webdriver.common.by import By\n",
    "from selenium.webdriver.support.ui import WebDriverWait\n",
    "from selenium.webdriver.support import expected_conditions as EC\n",
    "\n",
    "options = webdriver.chrome.options.Options()\n",
    "options.add_argument('--incognito --disable-blink-features=AutomationControlled')\n",
    "\n",
    "driver = webdriver.Chrome(options=options)\n",
    "\n",
    "import info\n",
    "\n",
    "link = \"https://www.bestbuy.ca/en-ca/product/xbox-series-x-1tb-halo-infinite-limited-edition-bundle/15679404\"\n",
    "driver.get(link)\n",
    "\n",
    "print(\"Time:\", datetime.now(pytz.timezone('America/New_York')).strftime(\"%H:%M:%S\"))\n",
    "    \n",
    "start = timer()\n",
    "\n",
    "n=1\n",
    "isComplete = False\n",
    "while not isComplete:\n",
    "    if (timer() - start)%900 == n:\n",
    "        driver = webdriver.Chrome(options=options)\n",
    "        driver.get(link)\n",
    "        n += 1\n",
    "        print(\"Time:\", datetime.now(pytz.timezone('America/New_York')).strftime(\"%H:%M:%S\"))\n",
    "        \n",
    "    # find add to cart button\n",
    "    try:\n",
    "        atcBtn = WebDriverWait(driver, 10).until(EC.element_to_be_clickable((By.CLASS_NAME, \"button_E6SE9.primary_1oCqK.addToCartButton_1op0t.addToCartButton.regular_1jnnf\")))\n",
    "    \n",
    "    except:\n",
    "        print(datetime.now(pytz.timezone('America/New_York')).strftime(\"%H:%M:%S\"), \": Add to cart button not found\")\n",
    "        driver.refresh()\n",
    "        continue\n",
    "\n",
    "    print(datetime.now(pytz.timezone('America/New_York')).strftime(\"%H:%M:%S\"), \": Add to cart button found\")\n",
    "\n",
    "    try:\n",
    "        # add to cart\n",
    "        atcBtn.click()\n",
    "        \n",
    "        #atcSuccessBtn = WebDriverWait(driver, 10).until(EC.element_to_be_clickable((By.CLASS_NAME, \"contentContainer_1GQT-\")))\n",
    "        \n",
    "        # go to cart and begin checkout as guest\n",
    "        driver.get(\"https://www.bestbuy.ca/en-ca/basket\")\n",
    "        checkoutBtn = WebDriverWait(driver, 5).until(EC.presence_of_element_located((By.CLASS_NAME, \"checkoutButton_2DdyM\")))\n",
    "        checkoutBtn.click()\n",
    "        print(\"Successfully added to cart - beginning check out\")\n",
    "\n",
    "        # fill in email and password\n",
    "        emailField = WebDriverWait(driver, 5).until(EC.presence_of_element_located((By.ID, \"username\")))\n",
    "        emailField.send_keys(info.email)\n",
    "\n",
    "        pwField = WebDriverWait(driver, 5).until(EC.presence_of_element_located((By.ID, \"password\")))\n",
    "        pwField.send_keys(info.password)\n",
    "\n",
    "        # click sign in button\n",
    "        signInBtn = WebDriverWait(driver, 5).until(EC.presence_of_element_located((By.CLASS_NAME, \"GSYpm\")))\n",
    "        signInBtn.click()\n",
    "        print(\"Signing in\")\n",
    "\n",
    "        # fill in card cvv\n",
    "        cvvField = WebDriverWait(driver, 5).until(EC.presence_of_element_located((By.ID, \"cvv\")))\n",
    "        cvvField.send_keys(info.cvv)\n",
    "        print(\"Attempting to place order\")\n",
    "\n",
    "        # place order\n",
    "        placeOrderBtn = WebDriverWait(driver, 5).until(EC.presence_of_element_located((By.CLASS_NAME, \"button_E6SE9.primary_1oCqK.order-now.regular_1jnnf\")))\n",
    "        placeOrderBtn.click()\n",
    "\n",
    "        isComplete = True\n",
    "    except:\n",
    "        # make sure this link is the same as the link passed to driver.get() before looping\n",
    "        driver.get(link)\n",
    "        print(datetime.now(pytz.timezone('America/New_York')).strftime(\"%H:%M:%S\"), \": Error - restarting bot\")\n",
    "        continue\n",
    "\n",
    "print(\"Order successfully placed\")"
   ]
  },
  {
   "cell_type": "code",
   "execution_count": null,
   "metadata": {},
   "outputs": [],
   "source": [
    "1700//900"
   ]
  },
  {
   "cell_type": "code",
   "execution_count": null,
   "metadata": {},
   "outputs": [],
   "source": [
    "import os\n",
    "from twilio.rest import Client\n",
    "\n",
    "\n",
    "# Find your Account SID and Auth Token at twilio.com/console\n",
    "# and set the environment variables. See http://twil.io/secure\n",
    "account_sid = os.environ[\"AC94b25b0c934943c9bc499be1f3b0c015\"]\n",
    "auth_token = os.environ[\"TWILIO_AUTH_TOKEN\"]\n",
    "client = Client(account_sid, auth_token)\n",
    "\n",
    "message = client.messages \\\n",
    "                .create(\n",
    "                     body=\"Join Earth's mightiest heroes. Like Kevin Bacon.\",\n",
    "                     from_='+18705681058',\n",
    "                     to='+14168754869'\n",
    "                 )\n",
    "\n",
    "print(message.sid)"
   ]
  },
  {
   "cell_type": "code",
   "execution_count": null,
   "metadata": {},
   "outputs": [],
   "source": [
    "# Direct for login account\n",
    "import chromedriver_binary\n",
    "import winsound\n",
    "\n",
    "from timeit import default_timer as timer\n",
    "from datetime import datetime\n",
    "import pytz\n",
    "\n",
    "from selenium import webdriver\n",
    "from selenium.webdriver.common.by import By\n",
    "from selenium.webdriver.support.ui import WebDriverWait\n",
    "from selenium.webdriver.support import expected_conditions as EC\n",
    "\n",
    "options = webdriver.chrome.options.Options()\n",
    "options.add_argument('--incognito --disable-blink-features=AutomationControlled')\n",
    "\n",
    "driver = webdriver.Chrome(options=options)\n",
    "\n",
    "import infolzy\n",
    "\n",
    "link = \"https://www.bestbuy.ca/account/en-ca\"\n",
    "driver.get(link)\n",
    "\n",
    "# fill in email and password\n",
    "emailField = WebDriverWait(driver, 5).until(EC.presence_of_element_located((By.ID, \"username\")))\n",
    "emailField.send_keys(infolzy.email)\n",
    "\n",
    "pwField = WebDriverWait(driver, 5).until(EC.presence_of_element_located((By.ID, \"password\")))\n",
    "pwField.send_keys(infolzy.password)\n",
    "\n",
    "# click sign in button\n",
    "signInBtn = WebDriverWait(driver, 5).until(EC.presence_of_element_located((By.CLASS_NAME, \"GSYpm\")))\n",
    "signInBtn.click()\n",
    "print(\"Signing in\")"
   ]
  },
  {
   "cell_type": "code",
   "execution_count": null,
   "metadata": {},
   "outputs": [],
   "source": [
    "link = \"https://www.bestbuy.ca/en-ca/basket\"\n",
    "driver.get(link)\n",
    "\n",
    "print(\"Time:\", datetime.now(pytz.timezone('America/New_York')).strftime(\"%H:%M:%S\"))\n",
    "    \n",
    "start = timer()\n",
    "\n",
    "n=1\n",
    "isComplete = False\n",
    "while not isComplete:\n",
    "    # find continue to checkout button\n",
    "    try:\n",
    "        checkoutBtn = WebDriverWait(driver, 5).until(EC.element_to_be_clickable((By.CLASS_NAME, \"checkoutButton_2DdyM\")))\n",
    "        \n",
    "    except:\n",
    "        print(datetime.now(pytz.timezone('America/New_York')).strftime(\"%H:%M:%S\"), \": continue-to-checkout button not found\")\n",
    "        driver.refresh()\n",
    "        continue\n",
    "\n",
    "    print(datetime.now(pytz.timezone('America/New_York')).strftime(\"%H:%M:%S\"), \": continue-to-checkout button found\")\n",
    "\n",
    "    try:\n",
    "        # add to cart\n",
    "        #atcBtn.click()\n",
    "        \n",
    "        #atcSuccessBtn = WebDriverWait(driver, 10).until(EC.element_to_be_clickable((By.CLASS_NAME, \"contentContainer_1GQT-\")))\n",
    "        \n",
    "        # go to cart and begin checkout as guest\n",
    "        checkoutBtn.click()\n",
    "        print(\"Successfully continue-to-checkout - beginning check out\")\n",
    "\n",
    "        # fill in card cvv\n",
    "        cvvField = WebDriverWait(driver, 10).until(EC.presence_of_element_located((By.ID, \"cvv\")))\n",
    "        cvvField.send_keys(infolzy.cvv)\n",
    "        print(\"Attempting to place order\")\n",
    "        \n",
    "        winsound.Beep(1000, 1000)\n",
    "        \n",
    "         # fill phone\n",
    "        if driver.find_elements_by_id(\"phone\"):\n",
    "            phoneField = WebDriverWait(driver, 5).until(EC.presence_of_element_located((By.ID, \"phone\")))\n",
    "            phoneField.send_keys(\"4168754869\")  \n",
    "            print(\"Filling phone number\")\n",
    "            \n",
    "            # click send code\n",
    "            sendCodeBtn = WebDriverWait(driver, 5).until(EC.presence_of_element_located((By.CLASS_NAME, \"inputCtaBtn.sendOtp\")))\n",
    "            sendCodeBtn.click()\n",
    "            winsound.Beep(1000, 1000)\n",
    "            \n",
    "        # place order\n",
    "        #placeOrderBtn = WebDriverWait(driver, 5).until(EC.presence_of_element_located((By.CLASS_NAME, \"button_E6SE9.primary_1oCqK.order-now.regular_1jnnf\")))\n",
    "        #placeOrderBtn.click()\n",
    "\n",
    "        isComplete = True\n",
    "    except:\n",
    "        # make sure this link is the same as the link passed to driver.get() before looping\n",
    "        driver.get(link)\n",
    "        print(datetime.now(pytz.timezone('America/New_York')).strftime(\"%H:%M:%S\"), \": Error - restarting bot\")\n",
    "        continue\n",
    "\n",
    "print(\"Order successfully placed\")"
   ]
  },
  {
   "cell_type": "code",
   "execution_count": null,
   "metadata": {},
   "outputs": [],
   "source": [
    "import threading\n",
    "import winsound\n",
    "import time\n",
    "duration = 1500  # milliseconds\n",
    "freq = 440  # Hz\n",
    "winsound.Beep(freq, duration)\n",
    "\n",
    "def threadFunc():\n",
    "    winsound.PlaySound('alert.wav')\n",
    "\n",
    "th = threading.Thread(target=threadFunc)"
   ]
  },
  {
   "cell_type": "code",
   "execution_count": null,
   "metadata": {},
   "outputs": [],
   "source": [
    "n=1\n",
    "while n<3:\n",
    "    if n ==1:\n",
    "        th.start()\n",
    "    n = n+1\n",
    "    time.sleep(1)\n",
    "    \n",
    "print('done')"
   ]
  },
  {
   "cell_type": "code",
   "execution_count": null,
   "metadata": {},
   "outputs": [],
   "source": [
    "winsound.Beep(1000, 1000)"
   ]
  },
  {
   "cell_type": "code",
   "execution_count": null,
   "metadata": {},
   "outputs": [],
   "source": []
  }
 ],
 "metadata": {
  "kernelspec": {
   "display_name": "Python 3",
   "language": "python",
   "name": "python3"
  },
  "language_info": {
   "codemirror_mode": {
    "name": "ipython",
    "version": 3
   },
   "file_extension": ".py",
   "mimetype": "text/x-python",
   "name": "python",
   "nbconvert_exporter": "python",
   "pygments_lexer": "ipython3",
   "version": "3.7.0"
  }
 },
 "nbformat": 4,
 "nbformat_minor": 2
}
